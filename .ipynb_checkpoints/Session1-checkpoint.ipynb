{
 "cells": [
  {
   "cell_type": "code",
   "execution_count": 13,
   "metadata": {},
   "outputs": [],
   "source": [
    "'''\n",
    "imports\n",
    "'''\n",
    "import numpy as np\n",
    "import pandas as pd\n",
    "import pickle\n"
   ]
  },
  {
   "cell_type": "code",
   "execution_count": 141,
   "metadata": {},
   "outputs": [],
   "source": [
    "class Traffic:\n",
    "    '''\n",
    "    Class definition\n",
    "    Methods to implement:\n",
    "        Traffic()    :    Constructor\n",
    "        add()     :   Add aircraft to airspace\n",
    "        delete()     :   Remove aircraft from airspace\n",
    "        detect_conflict()    :    Give a list of conflicting aircraft\n",
    "    \n",
    "    Attributes:\n",
    "        call_sign     :     ID of flight\n",
    "        origin     :    Origin airport\n",
    "        destination     :    destination airport\n",
    "        ac_types    :    Type of aircraft\n",
    "        flight_type    :    Manned or unmanned\n",
    "        trajectories    :    Trajectories of present aircraft in the airspace\n",
    "        safety_distances    :    Safety distances for this airspace\n",
    "    '''\n",
    "    \n",
    "    def __init__(self):\n",
    "        #pass\n",
    "        self.call_sign = []\n",
    "        self.origin = []\n",
    "        self.destination = []\n",
    "        self.ac_types = []\n",
    "        self.flight_type = []\n",
    "        self.trajectories = []\n",
    "        self.safety_distances = (5, 1000)\n",
    "    def add(self,cs,ac_type, flight_type, trajectory):\n",
    "        #pass\n",
    "        self.call_sign.append(cs)\n",
    "        #self.origin.append(origin)\n",
    "        #self.destination.append(destination)\n",
    "        self.ac_types.append(ac_type)\n",
    "        self.trajectories.append(trajectory)\n",
    "        \n",
    "    def delete(self):\n",
    "        pass\n",
    "    def detect_conflicts(self):\n",
    "        pass"
   ]
  },
  {
   "cell_type": "code",
   "execution_count": 173,
   "metadata": {},
   "outputs": [],
   "source": [
    "class Trajectory:\n",
    "    '''\n",
    "    Class definition\n",
    "    Methods:\n",
    "        Trajectory()    :    Constructor\n",
    "        change_altitude()    :    Change the altitude of the trajectory\n",
    "        flown_distance()    :    Determine the distance flown in this trajectory\n",
    "    Attributes:\n",
    "        time\n",
    "        latitude\n",
    "        longitude\n",
    "        altitude\n",
    "    '''\n",
    "    \n",
    "    def __init__(self,t,lat,lon,alt):\n",
    "        #pass\n",
    "        self.time = t\n",
    "        self.lat = lat\n",
    "        self.lon = lon\n",
    "        self.alt = alt\n",
    "    def change_altitude(self,new_alt,start_time,end_time):\n",
    "        #pass\n",
    "        first = self.time.index(start_time)\n",
    "        end = self.time.index(end_time)\n",
    "        self.alt[first:end] = [new_alt]*(end-first)\n",
    "    def flown_distance(self):\n",
    "        #pass\n",
    "        d = distance(self.lat[0],self.lon[0],self.lat[-1],self.lon[-1])\n",
    "        return d"
   ]
  },
  {
   "cell_type": "code",
   "execution_count": 174,
   "metadata": {},
   "outputs": [
    {
     "data": {
      "text/plain": [
       "['AC1', 'AC2', 'AC3', 'AC4']"
      ]
     },
     "execution_count": 174,
     "metadata": {},
     "output_type": "execute_result"
    }
   ],
   "source": [
    "traf = Traffic()\n",
    "data = pickle.load(open(\"trajectories.dat\",\"rb\"))\n",
    "traf.add(\"AC1\",\"A320\",\"commercial\", Trajectory(data[0][0],data[0][1],data[0][2],data[0][3]))\n",
    "traf.add(\"AC2\",\"A320\",\"commercial\", Trajectory(data[1][0],data[1][1],data[1][2],data[1][3]))\n",
    "traf.add(\"AC3\",\"A320\",\"commercial\", Trajectory(data[2][0],data[2][1],data[2][2],data[2][3]))\n",
    "traf.add(\"AC4\",\"A320\",\"commercial\", Trajectory(data[3][0],data[3][1],data[3][2],data[3][3]))\n",
    "\n",
    "traf.call_sign\n"
   ]
  },
  {
   "cell_type": "code",
   "execution_count": 186,
   "metadata": {},
   "outputs": [
    {
     "data": {
      "text/plain": [
       "[((1, 2), 904.0, 947.0), ((2, 3), 931.0, 970.0)]"
      ]
     },
     "execution_count": 186,
     "metadata": {},
     "output_type": "execute_result"
    }
   ],
   "source": [
    "conf = conflict_detection(traf.trajectories,traf.safety_distances)\n",
    "conf_pairs = []\n",
    "for key, val in conf.items():\n",
    "    #print(val)\n",
    "    for pair in val:\n",
    "        if pair not in conf_pairs:\n",
    "            conf_pairs.append(pair)\n",
    "result = []\n",
    "for pair in conf_pairs:\n",
    "    first = 0\n",
    "    last = 0\n",
    "    for key, val in conf.items():\n",
    "        if pair in val:\n",
    "            if first == 0:\n",
    "                first = key\n",
    "                last = key\n",
    "            else:\n",
    "                last = key\n",
    "    result.append((pair,first,last))\n",
    "result"
   ]
  },
  {
   "cell_type": "code",
   "execution_count": 185,
   "metadata": {},
   "outputs": [],
   "source": [
    "traf.trajectories[0].change_altitude(2000000, 888.0, 950)"
   ]
  },
  {
   "cell_type": "code",
   "execution_count": 187,
   "metadata": {},
   "outputs": [
    {
     "name": "stdout",
     "output_type": "stream",
     "text": [
      "154.85547085882993\n"
     ]
    }
   ],
   "source": [
    "print(float(traf.trajectories[0].flown_distance()))"
   ]
  },
  {
   "cell_type": "code",
   "execution_count": 178,
   "metadata": {},
   "outputs": [
    {
     "data": {
      "text/plain": [
       "numpy.ndarray"
      ]
     },
     "execution_count": 178,
     "metadata": {},
     "output_type": "execute_result"
    }
   ],
   "source": [
    "a = np.array([1,2,3])\n",
    "type(a)"
   ]
  },
  {
   "cell_type": "code",
   "execution_count": 164,
   "metadata": {},
   "outputs": [],
   "source": [
    "\n",
    "nm  = 1852.                 # m    of 1 nautical mile\n",
    "def conflict_detection(trajectories, thresholds,start_time=-1, end_time=-1):\n",
    "    hor = thresholds[0]\n",
    "    vert = thresholds[1]\n",
    "    if start_time == -1 and end_time == -1:\n",
    "        start_time = 0\n",
    "        end_time = len(trajectories[0].time)\n",
    "    \n",
    "    conflicts = {}\n",
    "    I = np.eye(len(trajectories))\n",
    "    for idx in range(start_time, end_time):\n",
    "        lats = np.array([t.lat[idx] for t in trajectories])\n",
    "        lons = np.array([t.lon[idx] for t in trajectories])\n",
    "        d = distance(np.asmatrix(lats), np.asmatrix(lons), np.asmatrix(lats), np.asmatrix(lons))\n",
    "        d = np.asarray(d) + 1e9 * I\n",
    "        \n",
    "        alt = np.array([t.alt[idx] for t in trajectories])\n",
    "        \n",
    "        dalt = alt.reshape((1, len(trajectories))) - \\\n",
    "            alt.reshape((1, len(trajectories))).T  + 1e9 * I\n",
    "        dalt = np.abs(dalt)\n",
    "        \n",
    "        conf_idx = np.where(np.logical_and(d <=hor, dalt <=vert))\n",
    "        conf_idx = list(zip(conf_idx[0], conf_idx[1]))\n",
    "        #conf_idx = conf_idx[:len(conf_idx)//2]\n",
    "        conf_idx = [tuple(x) for x in set(map(frozenset, conf_idx))]\n",
    "        if len(conf_idx) > 0:\n",
    "            \n",
    "            conflicts[trajectories[0].time[idx]] = conf_idx\n",
    "            #print(conf_idx)\n",
    "      \n",
    "    return conflicts"
   ]
  },
  {
   "cell_type": "code",
   "execution_count": 179,
   "metadata": {},
   "outputs": [],
   "source": [
    "def distance(lat1, lon1, lat2, lon2):\n",
    "    \"\"\" Calculate distance vectors, using WGS'84\n",
    "        In:\n",
    "            latd1,lond1 en latd2, lond2 [deg] :positions 1 & 2 (vectors)\n",
    "        Out:\n",
    "            d [nm]    = distance from 1 to 2 in nm (matrix) \"\"\"\n",
    "    \n",
    "    if not isinstance(lat1,np.ndarray):\n",
    "        lat1 = np.array(lat1)\n",
    "        lon1 = np.array(lon1)\n",
    "        lat2 = np.array(lat2)\n",
    "        lon2 = np.array(lon2)\n",
    "    \n",
    "    prodla =  lat1.T * lat2\n",
    "    condition = prodla < 0\n",
    "\n",
    "    r = np.zeros(prodla.shape)\n",
    "    r = np.where(condition, r, rwgs84_matrix(lat1.T + lat2))\n",
    "\n",
    "    a = 6378137.0\n",
    "\n",
    "    r = np.where(np.invert(condition), r, (np.divide(np.multiply\n",
    "      (0.5, ((np.multiply(abs(lat1), (rwgs84_matrix(lat1)+a))).T +\n",
    "         np.multiply(abs(lat2), (rwgs84_matrix(lat2)+a)))),\n",
    "            (abs(lat1)).T+(abs(lat2)+(lat1 == 0.)*0.000001))))  # different hemisphere\n",
    "\n",
    "    diff_lat = lat2-lat1.T\n",
    "    diff_lon = lon2-lon1.T\n",
    "\n",
    "    sin1 = (np.radians(diff_lat))\n",
    "    sin2 = (np.radians(diff_lon))\n",
    "\n",
    "    sinlat1 = np.sin(np.radians(lat1))\n",
    "    sinlat2 = np.sin(np.radians(lat2))\n",
    "    coslat1 = np.cos(np.radians(lat1))\n",
    "    coslat2 = np.cos(np.radians(lat2))\n",
    "\n",
    "    sin21 = np.mat(np.sin(sin2))\n",
    "    cos21 = np.mat(np.cos(sin2))\n",
    "    y = np.multiply(sin21, coslat2)\n",
    "\n",
    "    x1 = np.multiply(coslat1.T, sinlat2)\n",
    "\n",
    "    x2 = np.multiply(sinlat1.T, coslat2)\n",
    "    x3 = np.multiply(x2, cos21)\n",
    "    x = x1-x3\n",
    "\n",
    "    qdr = np.degrees(np.arctan2(y, x))\n",
    "\n",
    "    sin10 = np.mat(np.abs(np.sin(sin1/2.)))\n",
    "    sin20 = np.mat(np.abs(np.sin(sin2/2.)))\n",
    "    sin1sin1 = np.multiply(sin10, sin10)\n",
    "    sin2sin2 = np.multiply(sin20, sin20)\n",
    "    sqrt = sin1sin1 + np.multiply((coslat1.T * coslat2), sin2sin2)\n",
    "    dist_c = np.multiply(2., np.arctan2(np.sqrt(sqrt), np.sqrt(1-sqrt)))\n",
    "    dist = np.multiply(r/nm, dist_c)\n",
    "    #    dist = np.multiply(2.*r, np.arcsin(sqrt))\n",
    "    \n",
    "    return dist"
   ]
  },
  {
   "cell_type": "code",
   "execution_count": 41,
   "metadata": {},
   "outputs": [],
   "source": [
    "def rwgs84_matrix(latd):\n",
    "    \"\"\" Calculate the earths radius with WGS'84 geoid definition\n",
    "        In:  lat [deg] (Vector of latitudes)\n",
    "        Out: R   [m]   (Vector of radii) \"\"\"\n",
    "\n",
    "    lat    = np.radians(latd)\n",
    "    a      = 6378137.0       # [m] Major semi-axis WGS-84\n",
    "    b      = 6356752.314245  # [m] Minor semi-axis WGS-84\n",
    "    coslat = np.cos(lat)\n",
    "    sinlat = np.sin(lat)\n",
    "    an     = a * a * coslat\n",
    "    bn     = b * b * sinlat\n",
    "    ad     = a * coslat\n",
    "    bd     = b * sinlat\n",
    "\n",
    "    anan   = np.multiply(an, an)\n",
    "    bnbn   = np.multiply(bn, bn)\n",
    "    adad   = np.multiply(ad, ad)\n",
    "    bdbd   = np.multiply(bd, bd)\n",
    "    # Calculate radius in meters\n",
    "    r      = np.sqrt(np.divide(anan + bnbn, adad + bdbd))\n",
    "\n",
    "    return r"
   ]
  },
  {
   "cell_type": "code",
   "execution_count": 22,
   "metadata": {},
   "outputs": [
    {
     "name": "stdout",
     "output_type": "stream",
     "text": [
      "Index(['Simulation time', ' Call Sign', ' Sector', ' Latitude', ' Longitude',\n",
      "       ' Altitude', ' Heading', ' CAS', ' VS', ' Conflicts', ' LOSS',\n",
      "       ' In_conf', ' In_loss'],\n",
      "      dtype='object')\n"
     ]
    }
   ],
   "source": [
    "import numpy as np\n",
    "import pandas as pd\n",
    "import pickle\n",
    "\n",
    "df = pd.read_csv(r'C:\\Users\\ralvi\\Desktop\\puna\\uas-updated\\bluesky\\output\\MITLOG_test-example.log')\n",
    "print(df.columns)\n",
    "data = []\n",
    "groups = df.groupby(' Call Sign')\n",
    "groups = dict(list(groups))\n",
    "for key, group in groups.items():\n",
    "    #print(group['Simulation time'])\n",
    "    t = list(group['Simulation time'])\n",
    "    x = list(group[' Latitude'])\n",
    "    y = list(group[' Longitude'])\n",
    "    z = list(group[' Altitude'])\n",
    "    data.append((t,x,y,z))\n",
    "    \n",
    "pickle.dump(data,open('trajectories.dat','wb'))"
   ]
  },
  {
   "cell_type": "code",
   "execution_count": null,
   "metadata": {},
   "outputs": [],
   "source": []
  }
 ],
 "metadata": {
  "kernelspec": {
   "display_name": "Python 3",
   "language": "python",
   "name": "python3"
  },
  "language_info": {
   "codemirror_mode": {
    "name": "ipython",
    "version": 3
   },
   "file_extension": ".py",
   "mimetype": "text/x-python",
   "name": "python",
   "nbconvert_exporter": "python",
   "pygments_lexer": "ipython3",
   "version": "3.7.4"
  }
 },
 "nbformat": 4,
 "nbformat_minor": 4
}
