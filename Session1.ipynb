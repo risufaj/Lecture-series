{
 "cells": [
  {
   "cell_type": "code",
   "execution_count": 4,
   "metadata": {},
   "outputs": [],
   "source": [
    "from helpers import conflict_detection, distance, load_trajectories"
   ]
  },
  {
   "cell_type": "code",
   "execution_count": null,
   "metadata": {},
   "outputs": [],
   "source": [
    "data = load_trajectories()"
   ]
  },
  {
   "cell_type": "code",
   "execution_count": 9,
   "metadata": {},
   "outputs": [],
   "source": [
    "class Traffic:\n",
    "    '''\n",
    "    Class definition\n",
    "    Methods to implement:\n",
    "        Traffic()    :    Constructor\n",
    "        add()     :   Add aircraft to airspace\n",
    "        delete()     :   Remove aircraft from airspace\n",
    "        detect_conflict()    :    Give a list of conflicting aircraft\n",
    "    \n",
    "    Attributes:\n",
    "        call_sign     :     ID of flight\n",
    "        origin     :    Origin airport\n",
    "        destination     :    destination airport\n",
    "        ac_types    :    Type of aircraft\n",
    "        flight_type    :    Manned or unmanned\n",
    "        trajectories    :    Trajectories of present aircraft in the airspace\n",
    "        safety_distances    :    Safety distances for this airspace\n",
    "    '''\n",
    "    \n",
    "    def __init__(self):\n",
    "        pass\n",
    "        \n",
    "    def add(self,cs,ac_type, flight_type, trajectory):\n",
    "        pass\n",
    "    def delete(self):\n",
    "        pass\n",
    "    def detect_conflicts(self):\n",
    "        pass"
   ]
  },
  {
   "cell_type": "code",
   "execution_count": 10,
   "metadata": {},
   "outputs": [],
   "source": [
    "class Trajectory:\n",
    "    '''\n",
    "    Class definition\n",
    "    Methods:\n",
    "        Trajectory()    :    Constructor\n",
    "        change_altitude()    :    Change the altitude of the trajectory\n",
    "        flown_distance()    :    Determine the distance flown in this trajectory\n",
    "    Attributes:\n",
    "        time\n",
    "        latitude\n",
    "        longitude\n",
    "        altitude\n",
    "    '''\n",
    "    \n",
    "    def __init__(self):\n",
    "        pass\n",
    "    def change_altitude(self):\n",
    "        pass\n",
    "    def flown_distance(self):\n",
    "        pass\n",
    "        "
   ]
  }
 ],
 "metadata": {
  "kernelspec": {
   "display_name": "Python 3",
   "language": "python",
   "name": "python3"
  },
  "language_info": {
   "codemirror_mode": {
    "name": "ipython",
    "version": 3
   },
   "file_extension": ".py",
   "mimetype": "text/x-python",
   "name": "python",
   "nbconvert_exporter": "python",
   "pygments_lexer": "ipython3",
   "version": "3.7.4"
  }
 },
 "nbformat": 4,
 "nbformat_minor": 4
}
