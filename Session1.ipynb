{
 "cells": [
  {
   "cell_type": "code",
   "execution_count": 25,
   "metadata": {},
   "outputs": [],
   "source": [
    "from helpers import conflict_detection, distance, load_trajectories"
   ]
  },
  {
   "cell_type": "code",
   "execution_count": 28,
   "metadata": {},
   "outputs": [
    {
     "data": {
      "text/plain": [
       "1200"
      ]
     },
     "execution_count": 28,
     "metadata": {},
     "output_type": "execute_result"
    }
   ],
   "source": [
    "data = load_trajectories()\n",
    "### data contains a 4x4xsimulation time list of lists data structure."
   ]
  },
  {
   "cell_type": "code",
   "execution_count": null,
   "metadata": {},
   "outputs": [],
   "source": []
  },
  {
   "cell_type": "code",
   "execution_count": 95,
   "metadata": {},
   "outputs": [],
   "source": [
    "class Traffic:\n",
    "    '''\n",
    "    Class definition\n",
    "    Methods to implement:\n",
    "        Traffic()    :    Constructor\n",
    "        add()     :   Add aircraft to airspace\n",
    "        delete()     :   Remove aircraft from airspace\n",
    "        detect_conflict()    :    Give a list of conflicting aircraft\n",
    "    \n",
    "    Attributes:\n",
    "        call_sign     :     ID of flight\n",
    "        origin     :    Origin airport\n",
    "        destination     :    destination airport\n",
    "        ac_types    :    Type of aircraft\n",
    "        flight_type    :    Manned or unmanned\n",
    "        trajectories    :    Trajectories of present aircraft in the airspace\n",
    "        safety_distances    :    Safety distances for this airspace\n",
    "    '''\n",
    "    \n",
    "    def __init__(self):\n",
    "        #pass\n",
    "        self.call_sign = []\n",
    "        self.origin = []\n",
    "        self.destination = []\n",
    "        self.trajectories = []\n",
    "        self.safety_distances = (5,1000)\n",
    "        \n",
    "    def add(self,call_sign, origin, dest, trajectory):\n",
    "        self.call_sign.append(call_sign)\n",
    "        \n",
    "        self.origin.append(origin)\n",
    "        self.destination.append(dest)\n",
    "        self.trajectories.append(trajectory)\n",
    "        \n",
    "        #pass\n",
    "    def delete(self,idx):\n",
    "        self.call_sign.pop(idx)\n",
    "        self.origin.pop(idx)\n",
    "        self.destination.pop(idx)\n",
    "        self.trajectories.pop(idx)\n",
    "        \n",
    "        #pass\n",
    "    def idx2id(self,idx):\n",
    "        return self.call_sign.index(idx)\n",
    "    \n",
    "    def detect_conflicts(self):\n",
    "        conflicts = conflict_detection(self.trajectories, self.safety_distances)\n",
    "        #print(conflicts)\n",
    "        \n",
    "        conf_pairs = []\n",
    "        for time, conf_list in conflicts.items():\n",
    "            for pair in conf_list:\n",
    "                if pair not in conf_pairs:\n",
    "                    conf_pairs.append(pair)\n",
    "        \n",
    "        result = []\n",
    "        for pair in conf_pairs:\n",
    "            start = 0\n",
    "            end = 0\n",
    "            for time, conf_list in conflicts.items():\n",
    "                if pair in conf_list:\n",
    "                    if start == 0:\n",
    "                        start = time\n",
    "                        end = time\n",
    "                    else:\n",
    "                        end = time\n",
    "            result.append((pair, start, end))\n",
    "        \n",
    "        return result\n",
    "        #pass\n",
    "                       \n",
    "    "
   ]
  },
  {
   "cell_type": "code",
   "execution_count": 96,
   "metadata": {},
   "outputs": [],
   "source": [
    "traf = Traffic()\n",
    "traf.add(\"AC1\",\"o1\",\"d1\",Trajectory(data[0][0],data[0][1],data[0][2],data[0][3]))\n",
    "traf.add(\"AC2\",\"o1\",\"d1\",Trajectory(data[1][0],data[1][1],data[1][2],data[1][3]))\n",
    "traf.add(\"AC3\",\"o1\",\"d1\",Trajectory(data[2][0],data[2][1],data[2][2],data[2][3]))\n",
    "traf.add(\"AC4\",\"o1\",\"d1\",Trajectory(data[3][0],data[3][1],data[3][2],data[3][3]))"
   ]
  },
  {
   "cell_type": "code",
   "execution_count": 97,
   "metadata": {},
   "outputs": [
    {
     "name": "stdout",
     "output_type": "stream",
     "text": [
      "[((1, 2), 904.0, 947.0), ((2, 3), 931.0, 970.0)]\n"
     ]
    }
   ],
   "source": [
    "print(traf.detect_conflicts())"
   ]
  },
  {
   "cell_type": "code",
   "execution_count": 99,
   "metadata": {},
   "outputs": [
    {
     "name": "stdout",
     "output_type": "stream",
     "text": [
      "154.85547085882993\n"
     ]
    }
   ],
   "source": [
    "print(traf.trajectories[0].flown_distance())"
   ]
  },
  {
   "cell_type": "code",
   "execution_count": 93,
   "metadata": {
    "tags": []
   },
   "outputs": [],
   "source": [
    "class Trajectory:\n",
    "    '''\n",
    "    Class definition\n",
    "    Methods:\n",
    "        Trajectory()    :    Constructor\n",
    "        change_altitude()    :    Change the altitude of the trajectory\n",
    "        flown_distance()    :    Determine the distance flown in this trajectory\n",
    "    Attributes:\n",
    "        time\n",
    "        latitude\n",
    "        longitude\n",
    "        altitude\n",
    "    '''\n",
    "    \n",
    "    def __init__(self,time,lat,long,alt):\n",
    "        self.time = time\n",
    "        self.lat = lat\n",
    "        self.lon = long\n",
    "        self.alt = alt\n",
    "        \n",
    "    def change_altitude(self,new_altitude, start_time, end_time):\n",
    "        start = self.time.index(start_time)\n",
    "        end = self.time.index(end_time)\n",
    "        self.alt[start:end] = [new_altitude]*(end - start)\n",
    "        #pass\n",
    "    def flown_distance(self):\n",
    "        dist = distance(self.lat[0], self.lon[0], self.lat[-1], self.lon[-1])\n",
    "        return float(dist)\n",
    "                \n",
    "        #pass\n",
    "        "
   ]
  }
 ],
 "metadata": {
  "kernelspec": {
   "display_name": "Python 3 (ipykernel)",
   "language": "python",
   "name": "python3"
  },
  "language_info": {
   "codemirror_mode": {
    "name": "ipython",
    "version": 3
   },
   "file_extension": ".py",
   "mimetype": "text/x-python",
   "name": "python",
   "nbconvert_exporter": "python",
   "pygments_lexer": "ipython3",
   "version": "3.9.7"
  }
 },
 "nbformat": 4,
 "nbformat_minor": 4
}
